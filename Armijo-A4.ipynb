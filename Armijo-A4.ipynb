{
 "cells": [
  {
   "cell_type": "markdown",
   "metadata": {},
   "source": [
    "# Reinforcement Learning Solution to the Towers of Hanoi Puzzle"
   ]
  },
  {
   "cell_type": "code",
   "execution_count": 4,
   "metadata": {
    "collapsed": true
   },
   "outputs": [],
   "source": [
    "import neuralnetworks as nnQ\n",
    "import random\n",
    "import numpy as np"
   ]
  },
  {
   "cell_type": "code",
   "execution_count": 103,
   "metadata": {
    "collapsed": true
   },
   "outputs": [],
   "source": [
    "from statistics import mean "
   ]
  },
  {
   "cell_type": "code",
   "execution_count": 303,
   "metadata": {
    "collapsed": true
   },
   "outputs": [],
   "source": [
    "from copy import copy\n",
    "from copy import deepcopy"
   ]
  },
  {
   "cell_type": "markdown",
   "metadata": {},
   "source": [
    "## Requirements"
   ]
  },
  {
   "cell_type": "markdown",
   "metadata": {},
   "source": [
    "First, how should we represent the state of this puzzle?  We need to keep track of which disks are on which pegs. Name the disks 1, 2, and 3, with 1 being the smallest disk and 3 being the largest. The set of disks on a peg can be represented as a list of integers.  Then the state can be a list of three lists.\n",
    "\n",
    "For example, the starting state with all disks being on the left peg would be `[[1, 2, 3], [], []]`.  After moving disk 1 to peg 2, we have `[[2, 3], [1], []]`.\n",
    "\n",
    "To represent that move we just made, we can use a list of two peg numbers, like `[1, 2]`, representing a move of the top disk on peg 1 to peg 2."
   ]
  },
  {
   "cell_type": "markdown",
   "metadata": {},
   "source": [
    "Now on to some functions. Define at least the following functions. Examples showing required output appear below.\n",
    "\n",
    "   - `printState(state)`: prints the state in the form shown below\n",
    "   - `validMoves(state)`: returns list of moves that are valid from `state`\n",
    "   - `makeMove(state, move)`: returns new (copy of) state after move has been applied.\n",
    "   - `trainQ(nRepetitions, learningRate, epsilonDecayFactor, validMovesF, makeMoveF)`: train the Q function for number of repetitions, decaying epsilon at start of each repetition. Returns Q and list or array of number of steps to reach goal for each repetition.\n",
    "   - `testQ(Q, maxSteps, validMovesF, makeMoveF)`: without updating Q, use Q to find greedy action each step until goal is found. Return path of states.\n",
    "\n",
    "A function that you might choose to implement is\n",
    "\n",
    "   - `stateMoveTuple(state, move)`: returns tuple of state and move.  \n",
    "    \n",
    "This is useful for converting state and move to a key to be used for the Q dictionary.\n",
    "\n",
    "Show the code and results for testing each function.  Then experiment with various values of `nRepetitions`, `learningRate`, and `epsilonDecayFactor` to find values that work reasonably well, meaning that eventually the minimum solution path of seven steps is found consistently.\n",
    "\n",
    "Make a plot of the number of steps in the solution path versus number of repetitions. The plot should clearly show the number of steps in the solution path eventually reaching the minimum of seven steps, though the decrease will not be monotonic.  Also plot a horizontal, dashed line at 7 to show the optimal path length.\n",
    "\n",
    "Add markdown cells in which you describe the Q learning algorithm and your implementation of Q learning as applied to the Towers of Hanoi problem.  Use at least 15 sentences, in one or more markdown cells."
   ]
  },
  {
   "cell_type": "markdown",
   "metadata": {},
   "source": [
    "# Functions\n",
    "The following functions are used to implement the Q learning algorithm applied to the Towers of Hanoi problem.\n",
    "Each function should have a brief description on how what it does and how it relates to the Q learning algorithm."
   ]
  },
  {
   "cell_type": "markdown",
   "metadata": {},
   "source": [
    "The following function is a helper function, which turns state and move into tuples, this is necessary for iterating over them in the Dictionary Q, it will return the \"tuplefide\" state and move pair."
   ]
  },
  {
   "cell_type": "code",
   "execution_count": 309,
   "metadata": {},
   "outputs": [],
   "source": [
    "def stateMoveTuple(state, move):\n",
    "    tempTupState = []\n",
    "    for x in state:\n",
    "        tempTupState.append(tuple(x))        \n",
    "    return (tuple(tempTupState),tuple(move))"
   ]
  },
  {
   "cell_type": "code",
   "execution_count": 13,
   "metadata": {
    "collapsed": true
   },
   "outputs": [],
   "source": [
    "def validMoves(state):\n",
    "    validMoves = []\n",
    "    for x in range(1,4):\n",
    "        for y in range(1,4):\n",
    "            if len(state[x-1]) > 0:\n",
    "                topx = state[x-1]\n",
    "                if len(state[y-1]) !=0:\n",
    "                    topy = state[y-1]\n",
    "                if len(state[y-1]) == 0:\n",
    "                    validMoves.append([x,y])\n",
    "                elif((topx != topy and topy > topx)):\n",
    "                    validMoves.append([x,y])\n",
    "                elif((topx != topy and topy > topx)):\n",
    "                    validMoves.append([x,y])\n",
    "                elif((topx != topy and topy > topx)):\n",
    "                    validMoves.append([x,y])\n",
    "\n",
    "    return validMoves                "
   ]
  },
  {
   "cell_type": "code",
   "execution_count": 380,
   "metadata": {
    "collapsed": true
   },
   "outputs": [],
   "source": [
    "def printState(state):\n",
    "    temp = 0\n",
    "    col1Len = 0\n",
    "    col2Len = 0\n",
    "    col3Len = 0\n",
    "    big = len(max(state))\n",
    "    while temp < len(max(state)):\n",
    "        holder1,holder2,holder3 = \" \",\" \",\" \"\n",
    "        \n",
    "        if col1Len< len(state[0]) and col1Len !=big and col1Len == temp:\n",
    "            holder1 = state[0][temp]\n",
    "            col1Len = col1Len + 1\n",
    "        if col2Len < len(state[1]) and col2Len == temp:\n",
    "            holder2 = state[1][temp]\n",
    "            col2Len = col2Len + 1\n",
    "        if col3Len < len(state[2])and col3Len == temp:\n",
    "            holder3 = state[2][temp]\n",
    "            col3Len = col3Len + 1\n",
    "            \n",
    "        print(holder1,holder2,holder3)\n",
    "        temp = temp+1\n",
    "    print(\"------\")"
   ]
  },
  {
   "cell_type": "code",
   "execution_count": 302,
   "metadata": {
    "collapsed": true
   },
   "outputs": [],
   "source": [
    "def makeMove(state, move):\n",
    "    state2 = deepcopy(state)\n",
    "    temp = state2[move[0]-1][0]\n",
    "    state2[move[0]-1].pop(0)\n",
    "    state2[move[1]-1].insert(0,temp)\n",
    "    return state2"
   ]
  },
  {
   "cell_type": "markdown",
   "metadata": {},
   "source": [
    "The trainQ function "
   ]
  },
  {
   "cell_type": "code",
   "execution_count": 345,
   "metadata": {},
   "outputs": [],
   "source": [
    "def trainQ(nRepetitions, learningRate, epsilonDecayFactor, validMovesF, makeMoveF):\n",
    "    Q = {}\n",
    "    \n",
    "    state = [[1,2,3],[],[]]\n",
    "    epsilon = 1\n",
    "    step_count = []\n",
    "    \n",
    "    for x in range(nRepetitions):\n",
    "        \n",
    "        epsilon = epsilonDecayFactor * epsilon\n",
    "        step = 0\n",
    "        goal_state = [[],[],[1,2,3]]\n",
    "        done = False\n",
    "        \n",
    "        while done != True:\n",
    "            \n",
    "            step = step + 1\n",
    "            next_move = epsilonFindMoves(Q, state, epsilon, validMovesF)\n",
    "            #print(state,next_move)\n",
    "            next_state = makeMove(state,next_move) \n",
    "            \n",
    "            if stateMoveTuple(state,next_move) not in Q:\n",
    "                Q[stateMoveTuple(state,next_move)] = 0\n",
    "                \n",
    "            if next_state == goal_state:\n",
    "                Q[stateMoveTuple(state,next_move)] = 1\n",
    "                done = True\n",
    "                \n",
    "            if step > 1:\n",
    "                Q[stateMoveTuple(stateOld,moveOld)] += learningRate *(1+Q[stateMoveTuple(state,next_move)]-\n",
    "                                                        Q[stateMoveTuple(stateOld,moveOld)])\n",
    "            stateOld, moveOld = state, next_move\n",
    "            state = next_state\n",
    "        state = [[1,2,3],[],[]]\n",
    "        step_count.append(step)\n",
    "    return Q ,step_count"
   ]
  },
  {
   "cell_type": "code",
   "execution_count": 355,
   "metadata": {},
   "outputs": [],
   "source": [
    "def testQ(Q, maxSteps, validMovesF, makeMovesF):\n",
    "    \n",
    "    state = [[1,2,3],[],[]]\n",
    "    epsilon = 0\n",
    "    path = []\n",
    "    #path.append(state)\n",
    "    \n",
    "    step = 0\n",
    "    goal_state = [[],[],[1,2,3]]\n",
    "    done = False\n",
    "\n",
    "    while done != True:\n",
    "        step = step+1\n",
    "        path.append(state)\n",
    "        next_move = epsilonFindMoves(Q, state, epsilon, validMovesF)\n",
    "\n",
    "        next_state = makeMove(state,next_move) \n",
    "        \n",
    "\n",
    "        if next_state == goal_state:\n",
    "            done = True\n",
    "        if step > maxSteps:\n",
    "            done = True\n",
    "        state = next_state\n",
    "    return path"
   ]
  },
  {
   "cell_type": "markdown",
   "metadata": {},
   "source": [
    "The epsilonFindMoves(...) function takes in the "
   ]
  },
  {
   "cell_type": "code",
   "execution_count": 301,
   "metadata": {},
   "outputs": [],
   "source": [
    "def epsilonFindMoves(Q, state, epsilonRate, validMovesF):\n",
    "    validMoveList = validMoves(state)\n",
    "    if np.random.uniform()<epsilonRate:\n",
    "        return validMoveList[np.random.choice(len(validMoveList))] \n",
    "    else:\n",
    "        Qs = np.array([Q.get(stateMoveTuple(state, m), 0) for m in validMoveList])\n",
    "        return validMoveList[np.argmin(Qs)]"
   ]
  },
  {
   "cell_type": "code",
   "execution_count": 369,
   "metadata": {
    "scrolled": true
   },
   "outputs": [
    {
     "name": "stdout",
     "output_type": "stream",
     "text": [
      "1    \n",
      "2    \n",
      "3    \n",
      "------\n",
      "2   1\n",
      "3    \n",
      "------\n",
      "3 2 1\n",
      "------\n",
      "3 1  \n",
      "------\n",
      "  1 3\n",
      "------\n",
      "1 2 3\n",
      "------\n",
      "1   2\n",
      "    3\n",
      "------\n"
     ]
    }
   ],
   "source": [
    "for x in path:\n",
    "    printState(x)"
   ]
  },
  {
   "cell_type": "code",
   "execution_count": 370,
   "metadata": {},
   "outputs": [],
   "source": [
    "Q, stepsToGoal = trainQ(1000, 0.5, 0.7, validMoves, makeMove)"
   ]
  },
  {
   "cell_type": "code",
   "execution_count": 371,
   "metadata": {
    "scrolled": true
   },
   "outputs": [
    {
     "data": {
      "text/plain": [
       "7.599"
      ]
     },
     "execution_count": 371,
     "metadata": {},
     "output_type": "execute_result"
    }
   ],
   "source": [
    "mean(stepsToGoal)"
   ]
  },
  {
   "cell_type": "code",
   "execution_count": 372,
   "metadata": {
    "scrolled": true
   },
   "outputs": [
    {
     "data": {
      "text/plain": [
       "7.599"
      ]
     },
     "execution_count": 372,
     "metadata": {},
     "output_type": "execute_result"
    }
   ],
   "source": [
    "mean(stepsToGoal)"
   ]
  },
  {
   "cell_type": "markdown",
   "metadata": {},
   "source": [
    "# Testing"
   ]
  },
  {
   "cell_type": "code",
   "execution_count": 378,
   "metadata": {},
   "outputs": [],
   "source": [
    "state = [[1,2,3],[],[]]\n",
    "move = [1,2]"
   ]
  },
  {
   "cell_type": "code",
   "execution_count": 377,
   "metadata": {},
   "outputs": [
    {
     "name": "stdout",
     "output_type": "stream",
     "text": [
      "(((1, 2, 3), (), ()), (1, 2))\n"
     ]
    }
   ],
   "source": [
    "#testing stateMoveTuple(state,move)\n",
    "print(stateMoveTuple(state,move))"
   ]
  },
  {
   "cell_type": "code",
   "execution_count": 376,
   "metadata": {},
   "outputs": [
    {
     "name": "stdout",
     "output_type": "stream",
     "text": [
      "[[1, 2], [1, 3]]\n"
     ]
    }
   ],
   "source": [
    "#testing validMoves(state)\n",
    "print(validMoves(state))"
   ]
  },
  {
   "cell_type": "code",
   "execution_count": 383,
   "metadata": {
    "scrolled": false
   },
   "outputs": [
    {
     "name": "stdout",
     "output_type": "stream",
     "text": [
      "1    \n",
      "2    \n",
      "3    \n",
      "------\n"
     ]
    }
   ],
   "source": [
    "#testing printState(state)\n",
    "printState(state)"
   ]
  },
  {
   "cell_type": "code",
   "execution_count": 384,
   "metadata": {},
   "outputs": [
    {
     "name": "stdout",
     "output_type": "stream",
     "text": [
      "[[2, 3], [1], []]\n"
     ]
    }
   ],
   "source": [
    "#testing makeMove(state,move)\n",
    "print(makeMove(state,move))"
   ]
  },
  {
   "cell_type": "code",
   "execution_count": 399,
   "metadata": {},
   "outputs": [
    {
     "name": "stdout",
     "output_type": "stream",
     "text": [
      "State Actions in Q: 76\n",
      "Progression of steps to goal:\n",
      "[ 95  37 237  19  23  45  26  23   7  31  14  44   8  26  10   9   8  14\n",
      "   7  32  11   7  16   7   7   7   7   7   9   7   7   7   7   7   7   7\n",
      "   7   7   7   7   7   7   7   7   7   7   7   7   7   7]\n",
      "Mean of steps: 7.578\n"
     ]
    }
   ],
   "source": [
    "#testing trainQ(...)\n",
    "Q, stepsToGoal = trainQ(50, 0.5, 0.7, validMoves, makeMove)\n",
    "print('State Actions in Q:' ,len(Q))\n",
    "print(\"Progression of steps to goal:\")\n",
    "print(np.array(stepsToGoal))\n",
    "print('Mean of steps:',mean(steps))"
   ]
  },
  {
   "cell_type": "code",
   "execution_count": 410,
   "metadata": {
    "scrolled": false
   },
   "outputs": [
    {
     "name": "stdout",
     "output_type": "stream",
     "text": [
      "Path for trained Q to Goal:\n",
      "1    \n",
      "2    \n",
      "3    \n",
      "------\n",
      "2   1\n",
      "3    \n",
      "------\n",
      "3 2 1\n",
      "------\n",
      "3 1  \n",
      "------\n",
      "  1 3\n",
      "------\n",
      "1 2 3\n",
      "------\n",
      "1   2\n",
      "    3\n",
      "------\n"
     ]
    }
   ],
   "source": [
    "#testing testQ(...)\n",
    "Q, stepsToGoal = trainQ(100, 0.5, 0.7, validMoves, makeMove)\n",
    "path = testQ(Q, 20, validMoves, makeMove)\n",
    "print(\"Path for trained Q to Goal:\")\n",
    "for s in path:\n",
    "    printState(s)"
   ]
  },
  {
   "cell_type": "code",
   "execution_count": 403,
   "metadata": {
    "scrolled": false
   },
   "outputs": [
    {
     "data": {
      "text/plain": [
       "[[[1, 2, 3], [], []],\n",
       " [[2, 3], [], [1]],\n",
       " [[3], [2], [1]],\n",
       " [[3], [1, 2], []],\n",
       " [[], [1, 2], [3]],\n",
       " [[1], [2], [3]],\n",
       " [[1], [], [2, 3]]]"
      ]
     },
     "execution_count": 403,
     "metadata": {},
     "output_type": "execute_result"
    }
   ],
   "source": [
    "path"
   ]
  },
  {
   "cell_type": "markdown",
   "metadata": {},
   "source": [
    "## Further investigation"
   ]
  },
  {
   "cell_type": "code",
   "execution_count": 436,
   "metadata": {
    "scrolled": true
   },
   "outputs": [
    {
     "name": "stdout",
     "output_type": "stream",
     "text": [
      "5 Repetitions\n",
      "State Actions in Q: 76\n",
      "Progression of steps to goal:\n",
      "[ 87 119  51  44  15]\n",
      "Mean of steps: 63.2\n"
     ]
    }
   ],
   "source": [
    "Q, stepsToGoal = trainQ(5, 0.5, 0.7, validMoves, makeMove)\n",
    "print('5 Repetitions')\n",
    "print('State Actions in Q:' ,len(Q))\n",
    "print(\"Progression of steps to goal:\")\n",
    "print(np.array(stepsToGoal))\n",
    "print('Mean of steps:',mean(stepsToGoal))"
   ]
  },
  {
   "cell_type": "code",
   "execution_count": 437,
   "metadata": {},
   "outputs": [
    {
     "name": "stdout",
     "output_type": "stream",
     "text": [
      "500 Repetitions\n",
      "State Actions in Q: 76\n",
      "Progression of steps to goal:\n",
      "[ 51  74 108  55  23  50  15  24  50  18  54  10  16   8  27   7  28  33\n",
      "   9  12   7   7   9  24  11  23   7   7   7   7   8   7   7   7   7   7\n",
      "   7   7   7   7   7   7   7   7   7   7   7   7   7   7   7   7   7   7\n",
      "   7   7   7   7   7   7   7   7   7   7   7   7   7   7   7   7   7   7\n",
      "   7   7   7   7   7   7   7   7   7   7   7   7   7   7   7   7   7   7\n",
      "   7   7   7   7   7   7   7   7   7   7]\n",
      "Mean of steps: 8.144\n"
     ]
    }
   ],
   "source": [
    "Q, stepsToGoal = trainQ(500, 0.5, 0.7, validMoves, makeMove)\n",
    "print('500 Repetitions')\n",
    "print('State Actions in Q:' ,len(Q))\n",
    "print(\"Progression of steps to goal:\")\n",
    "print(np.array(stepsToGoal[:100]))\n",
    "print('Mean of steps:',mean(stepsToGoal))"
   ]
  },
  {
   "cell_type": "code",
   "execution_count": 438,
   "metadata": {},
   "outputs": [
    {
     "name": "stdout",
     "output_type": "stream",
     "text": [
      "10000 Repetitions\n",
      "Progression of steps to goal:\n",
      "[118  47 118  52  16  34  16  45  36  58  10   7  26   9  15  30  12  10\n",
      "  15   9  15   7   7   8   7   7  21   7   7   7   7   7   7   7   7   7\n",
      "   7   7   7   7   7   7   7   7   7   7   7   7   7   7   7   7   7   7\n",
      "   7   7   7   7   7   7   7   7   7   7   7   7   7   7   7   7   7   7\n",
      "   7   7   7   7   7   7   7   7   7   7   7   7   7   7   7   7   7   7\n",
      "   7   7   7   7   7   7   7   7   7   7]\n",
      "Mean of steps: 7.0566\n"
     ]
    }
   ],
   "source": [
    "Q, stepsToGoal = trainQ(10000, 0.5, 0.7, validMoves, makeMove)\n",
    "print('10000 Repetitions')\n",
    "print(\"Progression of steps to goal:\")\n",
    "print(np.array(stepsToGoal[:100]))\n",
    "print('Mean of steps:',mean(stepsToGoal))"
   ]
  },
  {
   "cell_type": "code",
   "execution_count": 439,
   "metadata": {
    "scrolled": true
   },
   "outputs": [
    {
     "name": "stdout",
     "output_type": "stream",
     "text": [
      "500 Repetitions, .99 learning rate\n",
      "Progression of steps to goal:\n",
      "[ 24  91 125  21  37  37  22  13  16   7  11   7   7   7   7   7   7   7\n",
      "   7   7   7   7   7   7   7   7   7   7   7   7   7   7   7   7   7   7\n",
      "   7   7   7   7   7   7   7   7   7   7   7   7   7   7   7   7   7   7\n",
      "   7   7   7   7   7   7   7   7   7   7   7   7   7   7   7   7   7   7\n",
      "   7   7   7   7   7   7   7   7   7   7   7   7   7   7   7   7   7   7\n",
      "   7   7   7   7   7   7   7   7   7   7]\n",
      "Mean of steps: 7.654\n",
      "500 Repetitions, .01 learning rate\n",
      "Progression of steps to goal:\n",
      "[  28  208   90  751  407  561  325  238  903  756  137 3281  188  108\n",
      "   52  125   65   79  123   75  107   57  167   27   97  104   49  113\n",
      "   24  118   49   90   50  116   69   63  147   22   80   55   78   46\n",
      "   86  124   27  121   13   70   70   57   62   45   88   50   71  118\n",
      "   16   73   84   65   42   81   35   46  118   21  122   38   35   46\n",
      "   86   22   32  106   18   78   59   40   46   63   62   47   93   30\n",
      "   41   69   45   38   90   58   17   81   27   34   56  105   31   40\n",
      "   68   39]\n",
      "Mean of steps: 51.302\n"
     ]
    }
   ],
   "source": [
    "Q, stepsToGoal = trainQ(500, .99 , 0.7, validMoves, makeMove)\n",
    "print('500 Repetitions, .99 learning rate')\n",
    "print(\"Progression of steps to goal:\")\n",
    "print(np.array(stepsToGoal[:100]))\n",
    "print('Mean of steps:',mean(stepsToGoal))\n",
    "Q, stepsToGoal = trainQ(500, .01 , 0.7, validMoves, makeMove)\n",
    "print('500 Repetitions, .01 learning rate')\n",
    "print(\"Progression of steps to goal:\")\n",
    "print(np.array(stepsToGoal[:100]))\n",
    "print('Mean of steps:',mean(stepsToGoal))"
   ]
  },
  {
   "cell_type": "code",
   "execution_count": 440,
   "metadata": {},
   "outputs": [
    {
     "name": "stdout",
     "output_type": "stream",
     "text": [
      "500 Repetitions, .99 decay\n",
      "Progression of steps to goal:\n",
      "[ 99 137  68  92 209 253 243 203  66  34  36 105 278  23  53  26  67  36\n",
      "  81  26  70  54  10  58  26  21  46  96  12  31  49  18  40  19  15  55\n",
      "  21  41  15  13  29  24  34  23  27  20  23  15   9  28  16  44  11  15\n",
      "  11  14   8  33   9  13  11  19  39  16  19  12  17  22  11  36  18   9\n",
      "  23  12  10  20  13  27  21  16  29  24  24  21  13  11  13  30  16  10\n",
      "  16  10  28  10   8  14  18  22   8  12]\n",
      "Mean of steps: 14.328\n",
      "500 Repetitions, .01 decay\n",
      "Progression of steps to goal:\n",
      "[ 66  42  86 116  26  26  21  40  27  29  12  22  45  16  15  11  10  36\n",
      "  19   7   7  10  10  42  10   8   7   7   7   7   7  10   7   7   7   7\n",
      "   7   7   7   7   7   7   7   7   7   7   7   7   7   7   7   7   7   7\n",
      "   7   7   7   7   7   7   7   7   7   7   7   7   7   7   7   7   7   7\n",
      "   7   7   7   7   7   7   7   7   7   7   7   7   7   7   7   7   7   7\n",
      "   7   7   7   7   7   7   7   7   7   7]\n",
      "Mean of steps: 8.16\n"
     ]
    }
   ],
   "source": [
    "Q, stepsToGoal = trainQ(500, 0.5, 0.99, validMoves, makeMove)\n",
    "print('500 Repetitions, .99 decay')\n",
    "print(\"Progression of steps to goal:\")\n",
    "print(np.array(stepsToGoal[:100]))\n",
    "print('Mean of steps:',mean(stepsToGoal))\n",
    "Q, stepsToGoal = trainQ(500, 0.5, 0.01, validMoves, makeMove)\n",
    "print('500 Repetitions, .01 decay')\n",
    "print(\"Progression of steps to goal:\")\n",
    "print(np.array(stepsToGoal[:100]))\n",
    "print('Mean of steps:',mean(stepsToGoal))"
   ]
  },
  {
   "cell_type": "code",
   "execution_count": 442,
   "metadata": {},
   "outputs": [
    {
     "name": "stdout",
     "output_type": "stream",
     "text": [
      "10000 Repetitions, .99 learning rate, .01 decay\n",
      "Progression of steps to goal:\n",
      "[66 42 62 36 80 47 11 15 10 24  7 14  7  7  7  7  7  7  7  7  7  7  7  7\n",
      "  7  7  7  7  7  7  7  7  7  7  7  7  7  7  7  7  7  7  7  7  7  7  7  7\n",
      "  7  7  7  7  7  7  7  7  7  7  7  7  7  7  7  7  7  7  7  7  7  7  7  7\n",
      "  7  7  7  7  7  7  7  7  7  7  7  7  7  7  7  7  7  7  7  7  7  7  7  7\n",
      "  7  7  7  7]\n",
      "Mean of steps: 7.033\n"
     ]
    }
   ],
   "source": [
    "Q, stepsToGoal = trainQ(10000, 0.99, 0.01, validMoves, makeMove)\n",
    "print('10000 Repetitions, .99 learning rate, .01 decay')\n",
    "print(\"Progression of steps to goal:\")\n",
    "print(np.array(stepsToGoal[:100]))\n",
    "print('Mean of steps:',mean(stepsToGoal))"
   ]
  },
  {
   "cell_type": "markdown",
   "metadata": {},
   "source": [
    "## Grading"
   ]
  },
  {
   "cell_type": "markdown",
   "metadata": {
    "collapsed": true
   },
   "source": [
    "Download and extract `A4grader.py` from [A4grader.tar](http://www.cs.colostate.edu/~anderson/cs440/notebooks/A4grader.tar)."
   ]
  },
  {
   "cell_type": "code",
   "execution_count": 348,
   "metadata": {},
   "outputs": [
    {
     "name": "stdout",
     "output_type": "stream",
     "text": [
      "\n",
      "======================= Code Execution =======================\n",
      "\n",
      "Extracting python code from notebook named 'Armijo-A4.ipynb' and storing in notebookcode.py\n",
      "Removing all statements that are not function or class defs or import statements.\n",
      "\n",
      "Testing validMoves([[1], [2], [3]])\n",
      "\n",
      "--- 10/10 points. Correctly returned [[1, 2], [1, 3], [2, 3]]\n",
      "\n",
      "Testing validMoves([[], [], [1, 2, 3]])\n",
      "\n",
      "--- 10/10 points. Correctly returned [[3, 1], [3, 2]]\n",
      "\n",
      "Testing makeMove([[], [], [1, 2, 3]], [3, 2])\n",
      "\n",
      "--- 10/10 points. Correctly returned [[], [1], [2, 3]]\n",
      "\n",
      "Testing makeMove([[2], [3], [1]], [1, 2])\n",
      "\n",
      "--- 10/10 points. Correctly returned [[], [2, 3], [1]]\n",
      "\n",
      "Testing   Q, steps = trainQ(1000, 0.5, 0.7, validMoves, makeMove).\n",
      "\n",
      "--- 10/10 points. Q dictionary has correct number of entries.\n",
      "\n",
      "--- 10/10 points. The mean of the number of steps of 7.578 is correctly < 10.\n",
      "\n",
      "Testing   path = testQ(Q, 20, validMoves, makeMove).\n",
      "\n",
      "--- 20/20 points. Correctly returns path of length 7, which is correctly less than 10.\n",
      "\n",
      "A4 Execution Grade is 80 / 80\n",
      "\n",
      " Remaining 20 points will be based on your text describing the trainQ and testQ functions.\n",
      "\n",
      "A4 FINAL GRADE is   / 100\n",
      "\n",
      "A4 EXTRA CREDIT is   / 1\n"
     ]
    }
   ],
   "source": [
    "%run -i A4grader.py"
   ]
  },
  {
   "cell_type": "markdown",
   "metadata": {},
   "source": [
    "## Extra Credit"
   ]
  },
  {
   "cell_type": "markdown",
   "metadata": {},
   "source": [
    "Modify your code to solve the Towers of Hanoi puzzle with 4 disks instead of 3.  Name your functions\n",
    "\n",
    "    - printState_4disk\n",
    "    - validMoves_4disk\n",
    "    - makeMove_4disk\n",
    "\n",
    "Find values for number of repetitions, learning rate, and epsilon decay factor for which trainQ learns a Q function that testQ can use to find the shortest solution path.  Include the output from the successful calls to trainQ and testQ."
   ]
  }
 ],
 "metadata": {
  "kernelspec": {
   "display_name": "Python 3",
   "language": "python",
   "name": "python3"
  },
  "language_info": {
   "codemirror_mode": {
    "name": "ipython",
    "version": 3
   },
   "file_extension": ".py",
   "mimetype": "text/x-python",
   "name": "python",
   "nbconvert_exporter": "python",
   "pygments_lexer": "ipython3",
   "version": "3.6.3"
  }
 },
 "nbformat": 4,
 "nbformat_minor": 2
}
